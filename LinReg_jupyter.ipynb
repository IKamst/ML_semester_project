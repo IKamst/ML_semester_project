{
 "cells": [
  {
   "cell_type": "markdown",
   "id": "94fe99c6",
   "metadata": {},
   "source": [
    "# Linear regression, Marieke Kopmels"
   ]
  },
  {
   "cell_type": "markdown",
   "id": "f7a026cc",
   "metadata": {},
   "source": [
    "Some setup things"
   ]
  },
  {
   "cell_type": "code",
   "execution_count": 1,
   "id": "9af2073c",
   "metadata": {},
   "outputs": [],
   "source": [
    "import numpy as np\n",
    "import pandas as pd\n",
    "import matplotlib.pyplot as plt\n",
    "from scipy.linalg import block_diag, inv\n",
    "\n",
    "number_of_classes = 10\n",
    "n = 240\n",
    "number_of_training_data = 1000\n",
    "number_of_testing_data = 1000"
   ]
  },
  {
   "cell_type": "code",
   "execution_count": 54,
   "id": "9444df86",
   "metadata": {},
   "outputs": [],
   "source": [
    "def read_data(number_of_training_data, number_of_testing_data, n):\n",
    "    training_data = pd.DataFrame(np.zeros((number_of_training_data, n)))\n",
    "    testing_data = pd.DataFrame(np.zeros((number_of_testing_data, n)))\n",
    "\n",
    "    data_file = open(\"mfeat-pix.txt\")\n",
    "    number_of_data_per_class = int(number_of_training_data/number_of_classes)\n",
    "    \n",
    "    # Read data\n",
    "    for class_index in range(number_of_classes):\n",
    "        for data_point_index in range(number_of_data_per_class):\n",
    "            data_point = data_file.readline()\n",
    "            char_index = 0\n",
    "            for char in data_point:\n",
    "                if char.isnumeric():\n",
    "                    training_data.iloc[data_point_index+(class_index*number_of_data_per_class), char_index] = int(char)\n",
    "                    char_index += 1\n",
    "        for data_point_index in range(number_of_data_per_class):\n",
    "            data_point = data_file.readline()\n",
    "            char_index = 0\n",
    "            for char in data_point:\n",
    "                if char.isnumeric():\n",
    "                    testing_data.iloc[data_point_index+(class_index*number_of_data_per_class), char_index] = int(char)\n",
    "                    char_index += 1\n",
    "\n",
    "    return training_data, testing_data"
   ]
  },
  {
   "cell_type": "code",
   "execution_count": 3,
   "id": "f684fa69",
   "metadata": {},
   "outputs": [],
   "source": [
    "def compute_labels():\n",
    "    b = np.ones((1,100)) \n",
    "    labels = block_diag(b, b, b, b, b, b, b, b, b, b)\n",
    "    \n",
    "    a = [1] * 100\n",
    "    correct_labels = [e * 0 for e in a] + a + [e * 2 for e in a] + [e * 3 for e in a] + [e * 4 for e in a] + \\\n",
    "            [e * 5 for e in a] + [e * 6 for e in a] + [e * 7 for e in a] + [e * 8 for e in a] + [e * 9 for e in a]\n",
    "\n",
    "    return pd.DataFrame(labels), pd.DataFrame(labels), pd.DataFrame(correct_labels).transpose()"
   ]
  },
  {
   "cell_type": "code",
   "execution_count": 4,
   "id": "d4861112",
   "metadata": {},
   "outputs": [],
   "source": [
    "def calculate_mean_train_images(training_data):\n",
    "    mean_train_images = pd.DataFrame(np.zeros((number_of_classes, n)))\n",
    "    training_data_points_per_class = number_of_training_data/number_of_classes\n",
    "    \n",
    "    for class_index in range(0, number_of_classes):\n",
    "        row_1 = int(class_index*training_data_points_per_class)\n",
    "        row_2 = int((class_index+1)*training_data_points_per_class)\n",
    "        class_training_data = training_data.iloc[row_1:row_2, :]\n",
    "        mean_train_images.iloc[class_index, :] = class_training_data.mean().transpose()\n",
    "\n",
    "    return mean_train_images        \n",
    "\n",
    "# def train_features_main_by_hand(training_data):\n",
    "#     features = pd.DataFrame(np.zeros((number_of_classes, n)))\n",
    "#     training_data_points_per_class = number_of_training_data/number_of_classes\n",
    "    \n",
    "#     for class_index in range(0, number_of_classes):\n",
    "#         row_1 = int(class_index*training_data_points_per_class)\n",
    "#         row_2 = int((class_index+1)*training_data_points_per_class)\n",
    "# #         print(\"Row_1: \", row_1, \", row_2: \", row_2, \", class_index: \", class_index)\n",
    "#         class_training_data = training_data.iloc[row_1:row_2, :]\n",
    "# #         print(\"class_training_data: \\n\", class_training_data)\n",
    "#         for column in range(0, class_training_data.shape[1]):\n",
    "#             rowtotal = 0\n",
    "#             for row in range(0, class_training_data.shape[0]):\n",
    "# #                 print(type(rowtotal), type(class_training_data.iloc[row, column]))\n",
    "#                 rowtotal += class_training_data.iloc[row, column]\n",
    "#             features.iloc[class_index, column] = rowtotal/class_training_data.shape[0]\n",
    "# #         print(\"Update, features:\\n\")\n",
    "# #         print(features)\n",
    "    \n",
    "#     print(\"Final, features_by_hand:\\n\")\n",
    "#     print(features)\n",
    "#     return features"
   ]
  },
  {
   "cell_type": "code",
   "execution_count": 5,
   "id": "8ff06656",
   "metadata": {},
   "outputs": [],
   "source": [
    "def calculate_feature_values(mean_train_images, training_data):\n",
    "#     print(\"Dimensions of df's: \")\n",
    "#     print(\"mean_train_images:\\nrows: \", mean_train_images.shape[0], \", columns: \", mean_train_images.shape[1])\n",
    "#     print(\"training_data:\\nrows: \", training_data.shape[0], \", columns: \", training_data.shape[1])\n",
    "    return mean_train_images.dot(training_data)"
   ]
  },
  {
   "cell_type": "code",
   "execution_count": 6,
   "id": "cd5d3b30",
   "metadata": {},
   "outputs": [],
   "source": [
    "def compute_misclassifications(weights, feature_values_train, correct_labels):\n",
    "    classification_hypotheses_train = weights.dot(feature_values_train)\n",
    "\n",
    "    max_values_train = pd.DataFrame(np.zeros((1, 1000)))\n",
    "    max_indices_train = pd.DataFrame(np.zeros((1, 1000)))\n",
    "\n",
    "    for column in range(0, classification_hypotheses_train.shape[1]):\n",
    "        max_values_train.iloc[0, column] = classification_hypotheses_train.iloc[:,column].max()\n",
    "        max_indices_train.iloc[0, column] = classification_hypotheses_train.iloc[:,column].idxmax()\n",
    "\n",
    "    misclassifications_train = correct_labels != max_indices_train\n",
    "    no_misclassifications_train = sum(misclassifications_train.iloc[0,:].values.tolist())\n",
    "\n",
    "    return no_misclassifications_train/number_of_training_data"
   ]
  },
  {
   "cell_type": "markdown",
   "id": "a1e16b72",
   "metadata": {},
   "source": [
    "## Main"
   ]
  },
  {
   "cell_type": "code",
   "execution_count": 55,
   "id": "df1a2506",
   "metadata": {},
   "outputs": [
    {
     "name": "stdout",
     "output_type": "stream",
     "text": [
      "Class:  0\n",
      "Class:  1\n",
      "Class:  2\n",
      "Class:  3\n",
      "Class:  4\n",
      "Class:  5\n",
      "Class:  6\n",
      "Class:  7\n",
      "Class:  8\n",
      "Class:  9\n"
     ]
    }
   ],
   "source": [
    "training_data, testing_data = read_data(number_of_training_data, number_of_testing_data, n)"
   ]
  },
  {
   "cell_type": "code",
   "execution_count": 47,
   "id": "8ded4b8c",
   "metadata": {},
   "outputs": [
    {
     "name": "stdout",
     "output_type": "stream",
     "text": [
      "     0    1    2    3    4    5    6    7    8    9    ...  230  231  232  \\\n",
      "490  0.0  0.0  0.0  0.0  3.0  4.0  4.0  4.0  2.0  2.0  ...  4.0  4.0  2.0   \n",
      "491  0.0  0.0  0.0  3.0  6.0  6.0  6.0  6.0  6.0  5.0  ...  4.0  4.0  4.0   \n",
      "492  0.0  0.0  2.0  4.0  5.0  6.0  6.0  5.0  4.0  2.0  ...  0.0  2.0  4.0   \n",
      "493  0.0  0.0  3.0  6.0  6.0  6.0  6.0  6.0  3.0  0.0  ...  4.0  4.0  4.0   \n",
      "494  0.0  0.0  1.0  2.0  2.0  2.0  4.0  3.0  2.0  2.0  ...  4.0  4.0  4.0   \n",
      "495  0.0  0.0  0.0  1.0  4.0  5.0  6.0  6.0  6.0  6.0  ...  4.0  4.0  4.0   \n",
      "496  0.0  0.0  1.0  2.0  3.0  5.0  6.0  6.0  4.0  4.0  ...  4.0  4.0  4.0   \n",
      "497  0.0  0.0  2.0  2.0  3.0  4.0  4.0  4.0  4.0  2.0  ...  2.0  2.0  2.0   \n",
      "498  5.0  5.0  5.0  6.0  6.0  6.0  6.0  6.0  6.0  6.0  ...  4.0  4.0  4.0   \n",
      "499  0.0  0.0  0.0  3.0  4.0  4.0  5.0  6.0  6.0  6.0  ...  4.0  4.0  4.0   \n",
      "500  0.0  0.0  0.0  0.0  0.0  0.0  0.0  0.0  0.0  0.0  ...  0.0  0.0  0.0   \n",
      "501  0.0  0.0  0.0  0.0  0.0  0.0  0.0  0.0  0.0  0.0  ...  0.0  0.0  0.0   \n",
      "502  0.0  0.0  0.0  0.0  0.0  0.0  0.0  0.0  0.0  0.0  ...  0.0  0.0  0.0   \n",
      "503  0.0  0.0  0.0  0.0  0.0  0.0  0.0  0.0  0.0  0.0  ...  0.0  0.0  0.0   \n",
      "504  0.0  0.0  0.0  0.0  0.0  0.0  0.0  0.0  0.0  0.0  ...  0.0  0.0  0.0   \n",
      "505  0.0  0.0  0.0  0.0  0.0  0.0  0.0  0.0  0.0  0.0  ...  0.0  0.0  0.0   \n",
      "506  0.0  0.0  0.0  0.0  0.0  0.0  0.0  0.0  0.0  0.0  ...  0.0  0.0  0.0   \n",
      "507  0.0  0.0  0.0  0.0  0.0  0.0  0.0  0.0  0.0  0.0  ...  0.0  0.0  0.0   \n",
      "508  0.0  0.0  0.0  0.0  0.0  0.0  0.0  0.0  0.0  0.0  ...  0.0  0.0  0.0   \n",
      "509  0.0  0.0  0.0  0.0  0.0  0.0  0.0  0.0  0.0  0.0  ...  0.0  0.0  0.0   \n",
      "510  0.0  0.0  0.0  0.0  0.0  0.0  0.0  0.0  0.0  0.0  ...  0.0  0.0  0.0   \n",
      "511  0.0  0.0  0.0  0.0  0.0  0.0  0.0  0.0  0.0  0.0  ...  0.0  0.0  0.0   \n",
      "512  0.0  0.0  0.0  0.0  0.0  0.0  0.0  0.0  0.0  0.0  ...  0.0  0.0  0.0   \n",
      "513  0.0  0.0  0.0  0.0  0.0  0.0  0.0  0.0  0.0  0.0  ...  0.0  0.0  0.0   \n",
      "514  0.0  0.0  0.0  0.0  0.0  0.0  0.0  0.0  0.0  0.0  ...  0.0  0.0  0.0   \n",
      "515  0.0  0.0  0.0  0.0  0.0  0.0  0.0  0.0  0.0  0.0  ...  0.0  0.0  0.0   \n",
      "516  0.0  0.0  0.0  0.0  0.0  0.0  0.0  0.0  0.0  0.0  ...  0.0  0.0  0.0   \n",
      "517  0.0  0.0  0.0  0.0  0.0  0.0  0.0  0.0  0.0  0.0  ...  0.0  0.0  0.0   \n",
      "518  0.0  0.0  0.0  0.0  0.0  0.0  0.0  0.0  0.0  0.0  ...  0.0  0.0  0.0   \n",
      "519  0.0  0.0  0.0  0.0  0.0  0.0  0.0  0.0  0.0  0.0  ...  0.0  0.0  0.0   \n",
      "520  0.0  0.0  0.0  0.0  0.0  0.0  0.0  0.0  0.0  0.0  ...  0.0  0.0  0.0   \n",
      "521  0.0  0.0  0.0  0.0  0.0  0.0  0.0  0.0  0.0  0.0  ...  0.0  0.0  0.0   \n",
      "522  0.0  0.0  0.0  0.0  0.0  0.0  0.0  0.0  0.0  0.0  ...  0.0  0.0  0.0   \n",
      "523  0.0  0.0  0.0  0.0  0.0  0.0  0.0  0.0  0.0  0.0  ...  0.0  0.0  0.0   \n",
      "524  0.0  0.0  0.0  0.0  0.0  0.0  0.0  0.0  0.0  0.0  ...  0.0  0.0  0.0   \n",
      "525  0.0  0.0  0.0  0.0  0.0  0.0  0.0  0.0  0.0  0.0  ...  0.0  0.0  0.0   \n",
      "526  0.0  0.0  0.0  0.0  0.0  0.0  0.0  0.0  0.0  0.0  ...  0.0  0.0  0.0   \n",
      "527  0.0  0.0  0.0  0.0  0.0  0.0  0.0  0.0  0.0  0.0  ...  0.0  0.0  0.0   \n",
      "528  0.0  0.0  0.0  0.0  0.0  0.0  0.0  0.0  0.0  0.0  ...  0.0  0.0  0.0   \n",
      "529  0.0  0.0  0.0  0.0  0.0  0.0  0.0  0.0  0.0  0.0  ...  0.0  0.0  0.0   \n",
      "530  0.0  0.0  0.0  0.0  0.0  0.0  0.0  0.0  0.0  0.0  ...  0.0  0.0  0.0   \n",
      "531  0.0  0.0  0.0  0.0  0.0  0.0  0.0  0.0  0.0  0.0  ...  0.0  0.0  0.0   \n",
      "532  0.0  0.0  0.0  0.0  0.0  0.0  0.0  0.0  0.0  0.0  ...  0.0  0.0  0.0   \n",
      "533  0.0  0.0  0.0  0.0  0.0  0.0  0.0  0.0  0.0  0.0  ...  0.0  0.0  0.0   \n",
      "534  0.0  0.0  0.0  0.0  0.0  0.0  0.0  0.0  0.0  0.0  ...  0.0  0.0  0.0   \n",
      "535  0.0  0.0  0.0  0.0  0.0  0.0  0.0  0.0  0.0  0.0  ...  0.0  0.0  0.0   \n",
      "536  0.0  0.0  0.0  0.0  0.0  0.0  0.0  0.0  0.0  0.0  ...  0.0  0.0  0.0   \n",
      "537  0.0  0.0  0.0  0.0  0.0  0.0  0.0  0.0  0.0  0.0  ...  0.0  0.0  0.0   \n",
      "538  0.0  0.0  0.0  0.0  0.0  0.0  0.0  0.0  0.0  0.0  ...  0.0  0.0  0.0   \n",
      "539  0.0  0.0  0.0  0.0  0.0  0.0  0.0  0.0  0.0  0.0  ...  0.0  0.0  0.0   \n",
      "540  0.0  0.0  0.0  0.0  0.0  0.0  0.0  0.0  0.0  0.0  ...  0.0  0.0  0.0   \n",
      "541  0.0  0.0  0.0  0.0  0.0  0.0  0.0  0.0  0.0  0.0  ...  0.0  0.0  0.0   \n",
      "542  0.0  0.0  0.0  0.0  0.0  0.0  0.0  0.0  0.0  0.0  ...  0.0  0.0  0.0   \n",
      "543  0.0  0.0  0.0  0.0  0.0  0.0  0.0  0.0  0.0  0.0  ...  0.0  0.0  0.0   \n",
      "544  0.0  0.0  0.0  0.0  0.0  0.0  0.0  0.0  0.0  0.0  ...  0.0  0.0  0.0   \n",
      "545  0.0  0.0  0.0  0.0  0.0  0.0  0.0  0.0  0.0  0.0  ...  0.0  0.0  0.0   \n",
      "546  0.0  0.0  0.0  0.0  0.0  0.0  0.0  0.0  0.0  0.0  ...  0.0  0.0  0.0   \n",
      "547  0.0  0.0  0.0  0.0  0.0  0.0  0.0  0.0  0.0  0.0  ...  0.0  0.0  0.0   \n",
      "548  0.0  0.0  0.0  0.0  0.0  0.0  0.0  0.0  0.0  0.0  ...  0.0  0.0  0.0   \n",
      "549  0.0  0.0  0.0  0.0  0.0  0.0  0.0  0.0  0.0  0.0  ...  0.0  0.0  0.0   \n",
      "\n",
      "     233  234  235  236  237  238  239  \n",
      "490  2.0  2.0  2.0  0.0  0.0  0.0  0.0  \n",
      "491  4.0  4.0  3.0  0.0  0.0  0.0  0.0  \n",
      "492  4.0  4.0  4.0  2.0  0.0  0.0  0.0  \n",
      "493  4.0  4.0  1.0  0.0  0.0  0.0  0.0  \n",
      "494  4.0  4.0  4.0  4.0  3.0  0.0  0.0  \n",
      "495  4.0  4.0  2.0  0.0  0.0  0.0  0.0  \n",
      "496  4.0  4.0  3.0  0.0  0.0  0.0  0.0  \n",
      "497  4.0  4.0  3.0  2.0  2.0  0.0  0.0  \n",
      "498  4.0  4.0  4.0  4.0  1.0  0.0  0.0  \n",
      "499  4.0  4.0  4.0  3.0  0.0  0.0  0.0  \n",
      "500  0.0  0.0  0.0  0.0  0.0  0.0  0.0  \n",
      "501  0.0  0.0  0.0  0.0  0.0  0.0  0.0  \n",
      "502  0.0  0.0  0.0  0.0  0.0  0.0  0.0  \n",
      "503  0.0  0.0  0.0  0.0  0.0  0.0  0.0  \n",
      "504  0.0  0.0  0.0  0.0  0.0  0.0  0.0  \n",
      "505  0.0  0.0  0.0  0.0  0.0  0.0  0.0  \n",
      "506  0.0  0.0  0.0  0.0  0.0  0.0  0.0  \n",
      "507  0.0  0.0  0.0  0.0  0.0  0.0  0.0  \n",
      "508  0.0  0.0  0.0  0.0  0.0  0.0  0.0  \n",
      "509  0.0  0.0  0.0  0.0  0.0  0.0  0.0  \n",
      "510  0.0  0.0  0.0  0.0  0.0  0.0  0.0  \n",
      "511  0.0  0.0  0.0  0.0  0.0  0.0  0.0  \n",
      "512  0.0  0.0  0.0  0.0  0.0  0.0  0.0  \n",
      "513  0.0  0.0  0.0  0.0  0.0  0.0  0.0  \n",
      "514  0.0  0.0  0.0  0.0  0.0  0.0  0.0  \n",
      "515  0.0  0.0  0.0  0.0  0.0  0.0  0.0  \n",
      "516  0.0  0.0  0.0  0.0  0.0  0.0  0.0  \n",
      "517  0.0  0.0  0.0  0.0  0.0  0.0  0.0  \n",
      "518  0.0  0.0  0.0  0.0  0.0  0.0  0.0  \n",
      "519  0.0  0.0  0.0  0.0  0.0  0.0  0.0  \n",
      "520  0.0  0.0  0.0  0.0  0.0  0.0  0.0  \n",
      "521  0.0  0.0  0.0  0.0  0.0  0.0  0.0  \n",
      "522  0.0  0.0  0.0  0.0  0.0  0.0  0.0  \n",
      "523  0.0  0.0  0.0  0.0  0.0  0.0  0.0  \n",
      "524  0.0  0.0  0.0  0.0  0.0  0.0  0.0  \n",
      "525  0.0  0.0  0.0  0.0  0.0  0.0  0.0  \n",
      "526  0.0  0.0  0.0  0.0  0.0  0.0  0.0  \n",
      "527  0.0  0.0  0.0  0.0  0.0  0.0  0.0  \n",
      "528  0.0  0.0  0.0  0.0  0.0  0.0  0.0  \n",
      "529  0.0  0.0  0.0  0.0  0.0  0.0  0.0  \n",
      "530  0.0  0.0  0.0  0.0  0.0  0.0  0.0  \n",
      "531  0.0  0.0  0.0  0.0  0.0  0.0  0.0  \n",
      "532  0.0  0.0  0.0  0.0  0.0  0.0  0.0  \n",
      "533  0.0  0.0  0.0  0.0  0.0  0.0  0.0  \n",
      "534  0.0  0.0  0.0  0.0  0.0  0.0  0.0  \n",
      "535  0.0  0.0  0.0  0.0  0.0  0.0  0.0  \n",
      "536  0.0  0.0  0.0  0.0  0.0  0.0  0.0  \n",
      "537  0.0  0.0  0.0  0.0  0.0  0.0  0.0  \n",
      "538  0.0  0.0  0.0  0.0  0.0  0.0  0.0  \n",
      "539  0.0  0.0  0.0  0.0  0.0  0.0  0.0  \n",
      "540  0.0  0.0  0.0  0.0  0.0  0.0  0.0  \n",
      "541  0.0  0.0  0.0  0.0  0.0  0.0  0.0  \n",
      "542  0.0  0.0  0.0  0.0  0.0  0.0  0.0  \n",
      "543  0.0  0.0  0.0  0.0  0.0  0.0  0.0  \n",
      "544  0.0  0.0  0.0  0.0  0.0  0.0  0.0  \n",
      "545  0.0  0.0  0.0  0.0  0.0  0.0  0.0  \n",
      "546  0.0  0.0  0.0  0.0  0.0  0.0  0.0  \n",
      "547  0.0  0.0  0.0  0.0  0.0  0.0  0.0  \n",
      "548  0.0  0.0  0.0  0.0  0.0  0.0  0.0  \n",
      "549  0.0  0.0  0.0  0.0  0.0  0.0  0.0  \n",
      "\n",
      "[60 rows x 240 columns]\n"
     ]
    }
   ],
   "source": [
    "print(training_data.iloc[490:550, :])"
   ]
  },
  {
   "cell_type": "code",
   "execution_count": 56,
   "id": "b005fc0e",
   "metadata": {},
   "outputs": [],
   "source": [
    "train_labels, test_labels, correct_labels = compute_labels()"
   ]
  },
  {
   "cell_type": "code",
   "execution_count": 57,
   "id": "1197c6df",
   "metadata": {},
   "outputs": [],
   "source": [
    "mean_train_images = calculate_mean_train_images(training_data)"
   ]
  },
  {
   "cell_type": "code",
   "execution_count": 58,
   "id": "59f51e0f",
   "metadata": {},
   "outputs": [],
   "source": [
    "feature_values_train = calculate_feature_values(mean_train_images, training_data.transpose())\n",
    "feature_values_test = calculate_feature_values(mean_train_images, testing_data.transpose())"
   ]
  },
  {
   "cell_type": "code",
   "execution_count": 59,
   "id": "28e85ce3",
   "metadata": {},
   "outputs": [],
   "source": [
    "a = pd.DataFrame(inv(feature_values_train.dot(feature_values_train.transpose())))\n",
    "b = feature_values_train.dot(train_labels.transpose())\n",
    "weights = a.dot(b).transpose()"
   ]
  },
  {
   "cell_type": "code",
   "execution_count": 60,
   "id": "75646144",
   "metadata": {
    "scrolled": true
   },
   "outputs": [
    {
     "name": "stdout",
     "output_type": "stream",
     "text": [
      "Train misclassification rate =  0.088\n",
      "Test misclassification rate =  0.091\n"
     ]
    }
   ],
   "source": [
    "no_misclassifications_train = compute_misclassifications(weights, feature_values_train, correct_labels)\n",
    "no_misclassifications_test = compute_misclassifications(weights, feature_values_test, correct_labels)\n",
    "\n",
    "print(\"Train misclassification rate = \", no_misclassifications_train)\n",
    "print(\"Test misclassification rate = \", no_misclassifications_test)"
   ]
  },
  {
   "cell_type": "code",
   "execution_count": 62,
   "id": "6f9a5e17",
   "metadata": {},
   "outputs": [
    {
     "data": {
      "image/png": "[encoded data removed]",
      "text/plain": [
       "<Figure size 1080x1152 with 10 Axes>"
      ]
     },
     "metadata": {
      "needs_background": "light"
     },
     "output_type": "display_data"
    }
   ],
   "source": [
    "# Plotting of the mean_train_images\n",
    "\n",
    "array = [[[0]*15 for i in range(16)] for j in range(number_of_classes)]\n",
    "\n",
    "for class_index in range(len(array)):\n",
    "    for row in range(len(array[0])):\n",
    "        for column in range(len(array[0][0])):\n",
    "            features_column = row*len(array[0][0]) + column\n",
    "            val = mean_train_images.iloc[class_index,features_column]\n",
    "            array[class_index][row][column] = val\n",
    "\n",
    "\n",
    "fig, axes = plt.subplots(1,10, figsize=(15,16))\n",
    "\n",
    "for i, ax in enumerate(axes.flat):\n",
    "    ax.imshow(array[i])\n"
   ]
  },
  {
   "cell_type": "code",
   "execution_count": 14,
   "id": "9e6d9fbb",
   "metadata": {},
   "outputs": [
    {
     "name": "stdout",
     "output_type": "stream",
     "text": [
      "   0   1   2   3   4   5   6   7   8   9   10  11\n",
      "0   7   3   2   1   5   6   1   3   2   4   8   9\n",
      "row:  0 , column:  0\n",
      "7\n",
      "update:\n",
      "[[7, 0, 0, 0], [0, 0, 0, 0], [0, 0, 0, 0]]\n",
      "row:  0 , column:  1\n",
      "3\n",
      "update:\n",
      "[[7, 3, 0, 0], [0, 0, 0, 0], [0, 0, 0, 0]]\n",
      "row:  0 , column:  2\n",
      "2\n",
      "update:\n",
      "[[7, 3, 2, 0], [0, 0, 0, 0], [0, 0, 0, 0]]\n",
      "row:  0 , column:  3\n",
      "1\n",
      "update:\n",
      "[[7, 3, 2, 1], [0, 0, 0, 0], [0, 0, 0, 0]]\n",
      "row:  1 , column:  0\n",
      "5\n",
      "update:\n",
      "[[7, 3, 2, 1], [5, 0, 0, 0], [0, 0, 0, 0]]\n",
      "row:  1 , column:  1\n",
      "6\n",
      "update:\n",
      "[[7, 3, 2, 1], [5, 6, 0, 0], [0, 0, 0, 0]]\n",
      "row:  1 , column:  2\n",
      "1\n",
      "update:\n",
      "[[7, 3, 2, 1], [5, 6, 1, 0], [0, 0, 0, 0]]\n",
      "row:  1 , column:  3\n",
      "3\n",
      "update:\n",
      "[[7, 3, 2, 1], [5, 6, 1, 3], [0, 0, 0, 0]]\n",
      "row:  2 , column:  0\n",
      "2\n",
      "update:\n",
      "[[7, 3, 2, 1], [5, 6, 1, 3], [2, 0, 0, 0]]\n",
      "row:  2 , column:  1\n",
      "4\n",
      "update:\n",
      "[[7, 3, 2, 1], [5, 6, 1, 3], [2, 4, 0, 0]]\n",
      "row:  2 , column:  2\n",
      "8\n",
      "update:\n",
      "[[7, 3, 2, 1], [5, 6, 1, 3], [2, 4, 8, 0]]\n",
      "row:  2 , column:  3\n",
      "9\n",
      "update:\n",
      "[[7, 3, 2, 1], [5, 6, 1, 3], [2, 4, 8, 9]]\n",
      "after:\n",
      "[[7, 3, 2, 1], [5, 6, 1, 3], [2, 4, 8, 9]]\n"
     ]
    }
   ],
   "source": [
    "# Mini test dataframe > array > image\n",
    "\n",
    "test_features = pd.DataFrame([[7, 3, 2, 1, 5, 6, 1, 3, 2, 4, 8, 9]])\n",
    "print(test_features)\n",
    "\n",
    "test_array = [[0]*4 for i in range(3)]\n",
    "\n",
    "for row in range(0,len(test_array)):\n",
    "    for column in range(0,len(test_array[0])):\n",
    "        print(\"row: \", row, \", column: \", column)\n",
    "        test_features_column = row*len(test_array[0]) + column\n",
    "#         print(\"test_features_column: \", test_features_column)\n",
    "        val = test_features.iloc[0,test_features_column]\n",
    "        print(val)\n",
    "        test_array[row][column] = val\n",
    "        print(\"update:\")\n",
    "        print(test_array)\n",
    "print(\"after:\")\n",
    "print(test_array)\n"
   ]
  },
  {
   "cell_type": "code",
   "execution_count": 15,
   "id": "ff64a3a0",
   "metadata": {},
   "outputs": [
    {
     "name": "stdout",
     "output_type": "stream",
     "text": [
      "[[ 0.  0.  5. 13.  9.  1.  0.  0.]\n",
      " [ 0.  0. 13. 15. 10. 15.  5.  0.]\n",
      " [ 0.  3. 15.  2.  0. 11.  8.  0.]\n",
      " [ 0.  4. 12.  0.  0.  8.  8.  0.]\n",
      " [ 0.  5.  8.  0.  0.  9.  8.  0.]\n",
      " [ 0.  4. 11.  0.  1. 12.  7.  0.]\n",
      " [ 0.  2. 14.  5. 10. 12.  0.  0.]\n",
      " [ 0.  0.  6. 13. 10.  0.  0.  0.]]\n",
      "0.0 0.0 5.0 13.0 9.0 1.0 0.0 0.0 0.0 0.0 13.0 15.0 10.0 15.0 5.0 0.0 0.0 3.0 15.0 2.0 0.0 11.0 8.0 0.0 0.0 4.0 12.0 0.0 0.0 8.0 8.0 0.0 0.0 5.0 8.0 0.0 0.0 9.0 8.0 0.0 0.0 4.0 11.0 0.0 1.0 12.0 7.0 0.0 0.0 2.0 14.0 5.0 10.0 12.0 0.0 0.0 0.0 0.0 6.0 13.0 10.0 0.0 0.0 0.0 Axes: \n",
      "[[<AxesSubplot:> <AxesSubplot:> <AxesSubplot:> <AxesSubplot:>\n",
      "  <AxesSubplot:> <AxesSubplot:> <AxesSubplot:> <AxesSubplot:>\n",
      "  <AxesSubplot:> <AxesSubplot:>]\n",
      " [<AxesSubplot:> <AxesSubplot:> <AxesSubplot:> <AxesSubplot:>\n",
      "  <AxesSubplot:> <AxesSubplot:> <AxesSubplot:> <AxesSubplot:>\n",
      "  <AxesSubplot:> <AxesSubplot:>]\n",
      " [<AxesSubplot:> <AxesSubplot:> <AxesSubplot:> <AxesSubplot:>\n",
      "  <AxesSubplot:> <AxesSubplot:> <AxesSubplot:> <AxesSubplot:>\n",
      "  <AxesSubplot:> <AxesSubplot:>]\n",
      " [<AxesSubplot:> <AxesSubplot:> <AxesSubplot:> <AxesSubplot:>\n",
      "  <AxesSubplot:> <AxesSubplot:> <AxesSubplot:> <AxesSubplot:>\n",
      "  <AxesSubplot:> <AxesSubplot:>]\n",
      " [<AxesSubplot:> <AxesSubplot:> <AxesSubplot:> <AxesSubplot:>\n",
      "  <AxesSubplot:> <AxesSubplot:> <AxesSubplot:> <AxesSubplot:>\n",
      "  <AxesSubplot:> <AxesSubplot:>]\n",
      " [<AxesSubplot:> <AxesSubplot:> <AxesSubplot:> <AxesSubplot:>\n",
      "  <AxesSubplot:> <AxesSubplot:> <AxesSubplot:> <AxesSubplot:>\n",
      "  <AxesSubplot:> <AxesSubplot:>]\n",
      " [<AxesSubplot:> <AxesSubplot:> <AxesSubplot:> <AxesSubplot:>\n",
      "  <AxesSubplot:> <AxesSubplot:> <AxesSubplot:> <AxesSubplot:>\n",
      "  <AxesSubplot:> <AxesSubplot:>]\n",
      " [<AxesSubplot:> <AxesSubplot:> <AxesSubplot:> <AxesSubplot:>\n",
      "  <AxesSubplot:> <AxesSubplot:> <AxesSubplot:> <AxesSubplot:>\n",
      "  <AxesSubplot:> <AxesSubplot:>]\n",
      " [<AxesSubplot:> <AxesSubplot:> <AxesSubplot:> <AxesSubplot:>\n",
      "  <AxesSubplot:> <AxesSubplot:> <AxesSubplot:> <AxesSubplot:>\n",
      "  <AxesSubplot:> <AxesSubplot:>]\n",
      " [<AxesSubplot:> <AxesSubplot:> <AxesSubplot:> <AxesSubplot:>\n",
      "  <AxesSubplot:> <AxesSubplot:> <AxesSubplot:> <AxesSubplot:>\n",
      "  <AxesSubplot:> <AxesSubplot:>]]\n"
     ]
    },
    {
     "data": {
      "image/png": "[encoded data removed]",
      "text/plain": [
       "<Figure size 576x576 with 100 Axes>"
      ]
     },
     "metadata": {
      "needs_background": "light"
     },
     "output_type": "display_data"
    }
   ],
   "source": [
    "# Example to plot image \n",
    "\n",
    "test = [[ 0.,  0.,  5., 13.,  9.,  1.,  0.,  0.],\n",
    "       [ 0.,  0., 13., 15., 10., 15.,  5.,  0.],\n",
    "       [ 0.,  3., 15.,  2.,  0., 11.,  8.,  0.],\n",
    "       [ 0.,  4., 12.,  0.,  0.,  8.,  8.,  0.],\n",
    "       [ 0.,  5.,  8.,  0.,  0.,  9.,  8.,  0.],\n",
    "       [ 0.,  4., 11.,  0.,  1., 12.,  7.,  0.],\n",
    "       [ 0.,  2., 14.,  5., 10., 12.,  0.,  0.],\n",
    "       [ 0.,  0.,  6., 13., 10.,  0.,  0.,  0.]]\n",
    "\n",
    "test = np.array(test)\n",
    "\n",
    "print(test)\n",
    "for item in (test.flat):\n",
    "    print (item, end=' ')\n",
    "\n",
    "fig, axes = plt.subplots(10,10, figsize=(8,8))\n",
    "\n",
    "print(\"Axes: \")\n",
    "print(axes)\n",
    "\n",
    "for i, ax in enumerate(axes.flat):\n",
    "    ax.imshow(test)"
   ]
  }
 ],
 "metadata": {
  "kernelspec": {
   "display_name": "Python 3",
   "language": "python",
   "name": "python3"
  },
  "language_info": {
   "codemirror_mode": {
    "name": "ipython",
    "version": 3
   },
   "file_extension": ".py",
   "mimetype": "text/x-python",
   "name": "python",
   "nbconvert_exporter": "python",
   "pygments_lexer": "ipython3",
   "version": "3.8.8"
  }
 },
 "nbformat": 4,
 "nbformat_minor": 5
}
